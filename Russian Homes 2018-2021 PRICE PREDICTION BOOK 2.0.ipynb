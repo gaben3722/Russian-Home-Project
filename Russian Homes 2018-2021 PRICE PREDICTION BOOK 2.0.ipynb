{
 "cells": [
  {
   "cell_type": "code",
   "execution_count": 53,
   "id": "dfd521ca",
   "metadata": {},
   "outputs": [],
   "source": [
    "# The dataset has 13 fields.\n",
    "\n",
    "# date - date of publication of the announcement;\n",
    "# time - the time when the ad was published;\n",
    "# geo_lat - Latitude\n",
    "# geo_lon - Longitude\n",
    "# region - Region of Russia. There are 85 subjects in the country in total.\n",
    "# building_type - Facade type. 0 - Other. 1 - Panel. 2 - Monolithic. 3 - Brick. 4 - Blocky. 5 - Wooden\n",
    "# object_type - Apartment type. 1 - Secondary real estate market; 2 - New building;\n",
    "# level - Apartment floor\n",
    "# levels - Number of storeys\n",
    "# rooms - the number of living rooms. If the value is \"-1\", then it means \"studio apartment\"\n",
    "# area - the total area of ​​the apartment square meters\n",
    "# kitchen_area - Kitchen area\n",
    "# price - Price. in rubles\n",
    "from sklearn.linear_model import LogisticRegression, Ridge, LinearRegression\n",
    "from sklearn.metrics import mean_absolute_error, r2_score, mean_squared_error\n",
    "from category_encoders import OrdinalEncoder, OneHotEncoder\n",
    "from sklearn.impute import SimpleImputer\n",
    "from sklearn.ensemble import RandomForestClassifier, GradientBoostingClassifier\n",
    "from sklearn.pipeline import make_pipeline\n",
    "import pandas as pd\n",
    "from sklearn.model_selection import GridSearchCV, RandomizedSearchCV\n",
    "import numpy as np \n",
    "import seaborn as sns\n",
    "import matplotlib.pyplot as plt\n",
    "import statsmodels.api as sm\n",
    "from statsmodels.formula.api import ols\n",
    "from matplotlib.dates import date2num \n",
    "from scipy import stats\n",
    "import matplotlib.dates as dates\n",
    "from sklearn.inspection import permutation_importance\n",
    "from sklearn.model_selection import train_test_split\n",
    "from xgboost import XGBClassifier \n",
    "from pandas_profiling import ProfileReport\n",
    "from pdpbox.pdp import pdp_isolate, pdp_plot, pdp_interact, pdp_interact_plot\n",
    "from sklearn.ensemble import RandomForestRegressor\n",
    "from xgboost import XGBRegressor\n",
    "from sklearn.metrics import classification_report, roc_curve, plot_confusion_matrix, plot_roc_curve, mean_absolute_error, roc_auc_score\n",
    "from sklearn.multiclass import OneVsRestClassifier\n",
    "df = pd.read_csv('russian_homes.csv')"
   ]
  },
  {
   "cell_type": "code",
   "execution_count": 4,
   "id": "9e668d6b",
   "metadata": {},
   "outputs": [
    {
     "data": {
      "text/html": [
       "<div>\n",
       "<style scoped>\n",
       "    .dataframe tbody tr th:only-of-type {\n",
       "        vertical-align: middle;\n",
       "    }\n",
       "\n",
       "    .dataframe tbody tr th {\n",
       "        vertical-align: top;\n",
       "    }\n",
       "\n",
       "    .dataframe thead th {\n",
       "        text-align: right;\n",
       "    }\n",
       "</style>\n",
       "<table border=\"1\" class=\"dataframe\">\n",
       "  <thead>\n",
       "    <tr style=\"text-align: right;\">\n",
       "      <th></th>\n",
       "      <th>price</th>\n",
       "      <th>geo_lat</th>\n",
       "      <th>geo_lon</th>\n",
       "      <th>region</th>\n",
       "      <th>building_type</th>\n",
       "      <th>level</th>\n",
       "      <th>levels</th>\n",
       "      <th>rooms</th>\n",
       "      <th>area</th>\n",
       "      <th>kitchen_area</th>\n",
       "      <th>object_type</th>\n",
       "    </tr>\n",
       "    <tr>\n",
       "      <th>date</th>\n",
       "      <th></th>\n",
       "      <th></th>\n",
       "      <th></th>\n",
       "      <th></th>\n",
       "      <th></th>\n",
       "      <th></th>\n",
       "      <th></th>\n",
       "      <th></th>\n",
       "      <th></th>\n",
       "      <th></th>\n",
       "      <th></th>\n",
       "    </tr>\n",
       "  </thead>\n",
       "  <tbody>\n",
       "    <tr>\n",
       "      <th>2018-02-19</th>\n",
       "      <td>6050000</td>\n",
       "      <td>59.805808</td>\n",
       "      <td>30.376141</td>\n",
       "      <td>2661</td>\n",
       "      <td>1</td>\n",
       "      <td>8</td>\n",
       "      <td>10</td>\n",
       "      <td>3</td>\n",
       "      <td>82.6</td>\n",
       "      <td>10.8</td>\n",
       "      <td>1</td>\n",
       "    </tr>\n",
       "    <tr>\n",
       "      <th>2018-02-27</th>\n",
       "      <td>8650000</td>\n",
       "      <td>55.683807</td>\n",
       "      <td>37.297405</td>\n",
       "      <td>81</td>\n",
       "      <td>3</td>\n",
       "      <td>5</td>\n",
       "      <td>24</td>\n",
       "      <td>2</td>\n",
       "      <td>69.1</td>\n",
       "      <td>12.0</td>\n",
       "      <td>1</td>\n",
       "    </tr>\n",
       "    <tr>\n",
       "      <th>2018-02-28</th>\n",
       "      <td>4000000</td>\n",
       "      <td>56.295250</td>\n",
       "      <td>44.061637</td>\n",
       "      <td>2871</td>\n",
       "      <td>1</td>\n",
       "      <td>5</td>\n",
       "      <td>9</td>\n",
       "      <td>3</td>\n",
       "      <td>66.0</td>\n",
       "      <td>10.0</td>\n",
       "      <td>1</td>\n",
       "    </tr>\n",
       "    <tr>\n",
       "      <th>2018-03-01</th>\n",
       "      <td>1850000</td>\n",
       "      <td>44.996132</td>\n",
       "      <td>39.074783</td>\n",
       "      <td>2843</td>\n",
       "      <td>4</td>\n",
       "      <td>12</td>\n",
       "      <td>16</td>\n",
       "      <td>2</td>\n",
       "      <td>38.0</td>\n",
       "      <td>5.0</td>\n",
       "      <td>11</td>\n",
       "    </tr>\n",
       "    <tr>\n",
       "      <th>2018-03-01</th>\n",
       "      <td>5450000</td>\n",
       "      <td>55.918767</td>\n",
       "      <td>37.984642</td>\n",
       "      <td>81</td>\n",
       "      <td>3</td>\n",
       "      <td>13</td>\n",
       "      <td>14</td>\n",
       "      <td>2</td>\n",
       "      <td>60.0</td>\n",
       "      <td>10.0</td>\n",
       "      <td>1</td>\n",
       "    </tr>\n",
       "  </tbody>\n",
       "</table>\n",
       "</div>"
      ],
      "text/plain": [
       "              price    geo_lat    geo_lon  region  building_type  level  \\\n",
       "date                                                                      \n",
       "2018-02-19  6050000  59.805808  30.376141    2661              1      8   \n",
       "2018-02-27  8650000  55.683807  37.297405      81              3      5   \n",
       "2018-02-28  4000000  56.295250  44.061637    2871              1      5   \n",
       "2018-03-01  1850000  44.996132  39.074783    2843              4     12   \n",
       "2018-03-01  5450000  55.918767  37.984642      81              3     13   \n",
       "\n",
       "            levels  rooms  area  kitchen_area  object_type  \n",
       "date                                                        \n",
       "2018-02-19      10      3  82.6          10.8            1  \n",
       "2018-02-27      24      2  69.1          12.0            1  \n",
       "2018-02-28       9      3  66.0          10.0            1  \n",
       "2018-03-01      16      2  38.0           5.0           11  \n",
       "2018-03-01      14      2  60.0          10.0            1  "
      ]
     },
     "execution_count": 4,
     "metadata": {},
     "output_type": "execute_result"
    }
   ],
   "source": [
    "#Read in data, set the date as the index col, remove extreme outliers in the price column\n",
    "def wrangle(filepath):\n",
    "    df = pd.read_csv(filepath, parse_dates=['date'], index_col='date')\n",
    "    df.drop(['time'],axis=1,inplace=True)\n",
    "    df = df.drop_duplicates()\n",
    "    \n",
    "    return df\n",
    "\n",
    "df = wrangle('russian_homes.csv')\n",
    "\n",
    "overfivemil = df[df['price']>=365865000].index  \n",
    "df.drop(overfivemil, inplace=True)\n",
    "\n",
    "guh2 = df[df['price']<10000].index  \n",
    "df.drop(guh2, inplace=True)\n",
    "\n",
    "\n",
    "df.head()"
   ]
  },
  {
   "cell_type": "code",
   "execution_count": 5,
   "id": "8239c120",
   "metadata": {},
   "outputs": [],
   "source": [
    "#define y variable \n",
    "target = 'building_type'\n",
    "y = df[target]\n",
    "X = df.drop(columns=target)"
   ]
  },
  {
   "cell_type": "code",
   "execution_count": 6,
   "id": "8ec68c7c",
   "metadata": {},
   "outputs": [],
   "source": [
    "#split data into train and test\n",
    "X_train, X_val, y_train, y_val = train_test_split(X, y, test_size=0.2, random_state=42)"
   ]
  },
  {
   "cell_type": "code",
   "execution_count": 7,
   "id": "8fb98956",
   "metadata": {},
   "outputs": [
    {
     "name": "stdout",
     "output_type": "stream",
     "text": [
      "Baseline Accuracy Score: 0.37373224792227056\n"
     ]
    }
   ],
   "source": [
    "print('Baseline Accuracy Score:', y_train.value_counts(normalize=True).max())"
   ]
  },
  {
   "cell_type": "code",
   "execution_count": 8,
   "id": "3e06d820",
   "metadata": {},
   "outputs": [],
   "source": [
    "#initial models 'not tuned'\n",
    "model_rf = make_pipeline(\n",
    "    OrdinalEncoder(),\n",
    "    SimpleImputer(),\n",
    "    RandomForestClassifier(random_state=42, n_jobs=-1, n_estimators=25)\n",
    ")\n",
    "\n",
    "model_rf.fit(X_train, y_train);"
   ]
  },
  {
   "cell_type": "code",
   "execution_count": 9,
   "id": "aa192b31",
   "metadata": {},
   "outputs": [
    {
     "name": "stdout",
     "output_type": "stream",
     "text": [
      "[22:53:10] WARNING: C:/Users/Administrator/workspace/xgboost-win64_release_1.4.0/src/learner.cc:1095: Starting in XGBoost 1.3.0, the default evaluation metric used with the objective 'multi:softprob' was changed from 'merror' to 'mlogloss'. Explicitly set eval_metric if you'd like to restore the old behavior.\n"
     ]
    }
   ],
   "source": [
    "#initial models 'not tuned'\n",
    "model_xgb = make_pipeline(\n",
    "    OrdinalEncoder(),\n",
    "    SimpleImputer(),\n",
    "    XGBClassifier(random_state=42, n_jobs=-1, n_estimators=25)\n",
    ")\n",
    "\n",
    "model_xgb.fit(X_train, y_train);"
   ]
  },
  {
   "cell_type": "code",
   "execution_count": 10,
   "id": "e276ee77",
   "metadata": {},
   "outputs": [
    {
     "name": "stdout",
     "output_type": "stream",
     "text": [
      "sklearn Training Accuracy: 0.9968346120270548\n",
      "sklearn Validation Accuracy: 0.7592530819949042\n"
     ]
    }
   ],
   "source": [
    "print('sklearn Training Accuracy:', model_rf.score(X_train, y_train))\n",
    "print('sklearn Validation Accuracy:', model_rf.score(X_val, y_val))"
   ]
  },
  {
   "cell_type": "code",
   "execution_count": 11,
   "id": "d3da6245",
   "metadata": {},
   "outputs": [
    {
     "name": "stdout",
     "output_type": "stream",
     "text": [
      "XGBoost Training Accuracy: 0.6737893810459975\n",
      "XGBoost Validation Accuracy: 0.6697279611636704\n"
     ]
    }
   ],
   "source": [
    "print('XGBoost Training Accuracy:', model_xgb.score(X_train, y_train))\n",
    "print('XGBoost Validation Accuracy:', model_xgb.score(X_val, y_val))"
   ]
  },
  {
   "cell_type": "code",
   "execution_count": 12,
   "id": "e03248c5",
   "metadata": {},
   "outputs": [],
   "source": [
    "#model tuning\n",
    "model_rf2 = make_pipeline(\n",
    "    OrdinalEncoder(),\n",
    "    SimpleImputer(),\n",
    "    RandomForestClassifier(random_state=42, n_jobs=-1, n_estimators=25)\n",
    ")\n"
   ]
  },
  {
   "cell_type": "code",
   "execution_count": 19,
   "id": "f7f4cd74",
   "metadata": {},
   "outputs": [],
   "source": [
    "params={\n",
    "    \n",
    "    'randomforestclassifier__max_depth'        : range(80, 200, 20),\n",
    "    'randomforestclassifier__min_samples_leaf' : range(250, 360, 20),\n",
    "    'randomforestclassifier__max_samples'      : [.1, .2, .3, .4, .5, .6, .7, .8, .9],\n",
    "    'randomforestclassifier__max_leaf_nodes'   : range(200, 400, 25),\n",
    "    'randomforestclassifier__min_samples_split': [14, 16, 18, 20, 22, 24, 26]\n",
    "}"
   ]
  },
  {
   "cell_type": "code",
   "execution_count": 20,
   "id": "a05261ec",
   "metadata": {},
   "outputs": [
    {
     "name": "stdout",
     "output_type": "stream",
     "text": [
      "Fitting 5 folds for each of 10 candidates, totalling 50 fits\n"
     ]
    },
    {
     "data": {
      "text/plain": [
       "RandomizedSearchCV(cv=5,\n",
       "                   estimator=Pipeline(steps=[('ordinalencoder',\n",
       "                                              OrdinalEncoder()),\n",
       "                                             ('simpleimputer', SimpleImputer()),\n",
       "                                             ('randomforestclassifier',\n",
       "                                              RandomForestClassifier(n_estimators=25,\n",
       "                                                                     n_jobs=-1,\n",
       "                                                                     random_state=42))]),\n",
       "                   n_jobs=-1,\n",
       "                   param_distributions={'randomforestclassifier__max_depth': range(80, 200, 20),\n",
       "                                        'randomforestclassifier__max_leaf_nodes': range(200, 400, 25),\n",
       "                                        'randomforestclassifier__max_samples': [0.1,\n",
       "                                                                                0.2,\n",
       "                                                                                0.3,\n",
       "                                                                                0.4,\n",
       "                                                                                0.5,\n",
       "                                                                                0.6,\n",
       "                                                                                0.7,\n",
       "                                                                                0.8,\n",
       "                                                                                0.9],\n",
       "                                        'randomforestclassifier__min_samples_leaf': range(250, 360, 20),\n",
       "                                        'randomforestclassifier__min_samples_split': [14,\n",
       "                                                                                      16,\n",
       "                                                                                      18,\n",
       "                                                                                      20,\n",
       "                                                                                      22,\n",
       "                                                                                      24,\n",
       "                                                                                      26]},\n",
       "                   verbose=1)"
      ]
     },
     "execution_count": 20,
     "metadata": {},
     "output_type": "execute_result"
    }
   ],
   "source": [
    "model_RfR = RandomizedSearchCV(\n",
    "    model_rf2, \n",
    "    param_distributions=params,\n",
    "    n_iter=10,\n",
    "    cv=5,\n",
    "    n_jobs=-1,\n",
    "    verbose=1\n",
    ")\n",
    "\n",
    "model_RfR.fit(X_train, y_train)"
   ]
  },
  {
   "cell_type": "code",
   "execution_count": 21,
   "id": "556eda3c",
   "metadata": {},
   "outputs": [
    {
     "name": "stdout",
     "output_type": "stream",
     "text": [
      "Best score for `model`: 0.6507906325918178\n",
      "\n",
      "Best params for `model`: {'randomforestclassifier__min_samples_split': 20, 'randomforestclassifier__min_samples_leaf': 310, 'randomforestclassifier__max_samples': 0.7, 'randomforestclassifier__max_leaf_nodes': 350, 'randomforestclassifier__max_depth': 120}\n"
     ]
    }
   ],
   "source": [
    "best_score = model_RfR.best_score_\n",
    "best_params = model_RfR.best_params_\n",
    "\n",
    "print('Best score for `model`:', best_score)\n",
    "print()\n",
    "print('Best params for `model`:', best_params)"
   ]
  },
  {
   "cell_type": "code",
   "execution_count": 24,
   "id": "b3fc2c16",
   "metadata": {},
   "outputs": [
    {
     "name": "stdout",
     "output_type": "stream",
     "text": [
      "[23:18:12] WARNING: C:/Users/Administrator/workspace/xgboost-win64_release_1.4.0/src/learner.cc:1095: Starting in XGBoost 1.3.0, the default evaluation metric used with the objective 'multi:softprob' was changed from 'merror' to 'mlogloss'. Explicitly set eval_metric if you'd like to restore the old behavior.\n"
     ]
    }
   ],
   "source": [
    "#model tuning\n",
    "model_xgb2 = make_pipeline(\n",
    "    OrdinalEncoder(),\n",
    "    SimpleImputer(),\n",
    "    XGBClassifier(random_state=42, n_jobs=-1, n_estimators=25)\n",
    ")\n",
    "\n",
    "model_xgb2.fit(X_train, y_train);"
   ]
  },
  {
   "cell_type": "code",
   "execution_count": 25,
   "id": "0866c141",
   "metadata": {},
   "outputs": [],
   "source": [
    "param={\n",
    "    'xgbclassifier__learning_rate'   : [0.03, 0.05, 0.10, 0.15, 0.20, 0.25, 0.30],\n",
    "    'xgbclassifier__max_depth'       : range(80, 200, 20),\n",
    "    'xgbclassifier__min_child_weight': [8, 9, 10, 11, 12, 13, 14],\n",
    "    'xgbclassifier__gamma'           : [0.2, 0.3, 0.4, 0.5, 0.6, 0.7],\n",
    "    'xgbclassifier__colsample_bytree': [0.01, 0.02, 0.3, 0.4, 0.5, 0.7, 0.08, 0.09]  \n",
    "}"
   ]
  },
  {
   "cell_type": "code",
   "execution_count": 26,
   "id": "085714a2",
   "metadata": {},
   "outputs": [
    {
     "name": "stdout",
     "output_type": "stream",
     "text": [
      "Fitting 5 folds for each of 10 candidates, totalling 50 fits\n",
      "[00:11:23] WARNING: C:/Users/Administrator/workspace/xgboost-win64_release_1.4.0/src/learner.cc:1095: Starting in XGBoost 1.3.0, the default evaluation metric used with the objective 'multi:softprob' was changed from 'merror' to 'mlogloss'. Explicitly set eval_metric if you'd like to restore the old behavior.\n"
     ]
    },
    {
     "data": {
      "text/plain": [
       "RandomizedSearchCV(cv=5,\n",
       "                   estimator=Pipeline(steps=[('ordinalencoder',\n",
       "                                              OrdinalEncoder()),\n",
       "                                             ('simpleimputer', SimpleImputer()),\n",
       "                                             ('xgbclassifier',\n",
       "                                              XGBClassifier(base_score=None,\n",
       "                                                            booster=None,\n",
       "                                                            colsample_bylevel=None,\n",
       "                                                            colsample_bynode=None,\n",
       "                                                            colsample_bytree=None,\n",
       "                                                            gamma=None,\n",
       "                                                            gpu_id=None,\n",
       "                                                            importance_type='gain',\n",
       "                                                            interaction_constraints=None,\n",
       "                                                            learning_rate=None,\n",
       "                                                            max_delta...\n",
       "                                                            validate_parameters=None,\n",
       "                                                            verbosity=None))]),\n",
       "                   n_jobs=-1,\n",
       "                   param_distributions={'xgbclassifier__colsample_bytree': [0.01,\n",
       "                                                                            0.02,\n",
       "                                                                            0.3,\n",
       "                                                                            0.4,\n",
       "                                                                            0.5,\n",
       "                                                                            0.7,\n",
       "                                                                            0.08,\n",
       "                                                                            0.09],\n",
       "                                        'xgbclassifier__gamma': [0.2, 0.3, 0.4,\n",
       "                                                                 0.5, 0.6,\n",
       "                                                                 0.7],\n",
       "                                        'xgbclassifier__learning_rate': [0.03,\n",
       "                                                                         0.05,\n",
       "                                                                         0.1,\n",
       "                                                                         0.15,\n",
       "                                                                         0.2,\n",
       "                                                                         0.25,\n",
       "                                                                         0.3],\n",
       "                                        'xgbclassifier__max_depth': range(80, 200, 20),\n",
       "                                        'xgbclassifier__min_child_weight': [8,\n",
       "                                                                            9,\n",
       "                                                                            10,\n",
       "                                                                            11,\n",
       "                                                                            12,\n",
       "                                                                            13,\n",
       "                                                                            14]},\n",
       "                   verbose=1)"
      ]
     },
     "execution_count": 26,
     "metadata": {},
     "output_type": "execute_result"
    }
   ],
   "source": [
    "model_RfR2 = RandomizedSearchCV(\n",
    "    model_xgb2, \n",
    "    param_distributions=param,\n",
    "    n_iter=10,\n",
    "    cv=5,\n",
    "    n_jobs=-1,\n",
    "    verbose=1\n",
    ")\n",
    "\n",
    "model_RfR2.fit(X_train, y_train)"
   ]
  },
  {
   "cell_type": "code",
   "execution_count": 27,
   "id": "9b6cc010",
   "metadata": {},
   "outputs": [
    {
     "name": "stdout",
     "output_type": "stream",
     "text": [
      "Best score for `model`: 0.7680306450489809\n",
      "\n",
      "Best params for `model`: {'xgbclassifier__min_child_weight': 13, 'xgbclassifier__max_depth': 140, 'xgbclassifier__learning_rate': 0.25, 'xgbclassifier__gamma': 0.4, 'xgbclassifier__colsample_bytree': 0.5}\n"
     ]
    }
   ],
   "source": [
    "best_score = model_RfR2.best_score_\n",
    "best_params = model_RfR2.best_params_\n",
    "\n",
    "print('Best score for `model`:', best_score)\n",
    "print()\n",
    "print('Best params for `model`:', best_params)"
   ]
  },
  {
   "cell_type": "code",
   "execution_count": 29,
   "id": "58ce25ab",
   "metadata": {},
   "outputs": [
    {
     "name": "stdout",
     "output_type": "stream",
     "text": [
      "[00:28:10] WARNING: C:/Users/Administrator/workspace/xgboost-win64_release_1.4.0/src/learner.cc:1095: Starting in XGBoost 1.3.0, the default evaluation metric used with the objective 'multi:softprob' was changed from 'merror' to 'mlogloss'. Explicitly set eval_metric if you'd like to restore the old behavior.\n"
     ]
    }
   ],
   "source": [
    "#Final model\n",
    "model_xgb3 = make_pipeline(\n",
    "    OrdinalEncoder(),\n",
    "    SimpleImputer(),\n",
    "    XGBClassifier(random_state=42, n_jobs=-1, n_estimators=25, min_child_weight=13, max_depth=40, learning_rate=0.25, gamma=0.4, colsample_bytree=0.5)\n",
    ")\n",
    "\n",
    "model_xgb3.fit(X_train, y_train);"
   ]
  },
  {
   "cell_type": "code",
   "execution_count": 30,
   "id": "2864b04c",
   "metadata": {},
   "outputs": [
    {
     "name": "stdout",
     "output_type": "stream",
     "text": [
      "XGBoost Training Accuracy: 0.8886773504425156\n",
      "XGBoost Validation Accuracy: 0.7755768316311684\n"
     ]
    }
   ],
   "source": [
    "print('XGBoost Training Accuracy:', model_xgb3.score(X_train, y_train))\n",
    "print('XGBoost Validation Accuracy:', model_xgb3.score(X_val, y_val))"
   ]
  },
  {
   "cell_type": "code",
   "execution_count": 31,
   "id": "49f17ec7",
   "metadata": {},
   "outputs": [],
   "source": [
    "perm_imp = permutation_importance(model_xgb3, \n",
    "                                  X_val, \n",
    "                                  y_val, \n",
    "                                  n_repeats=5, \n",
    "                                  n_jobs=-1, \n",
    "                                  random_state=42)"
   ]
  },
  {
   "cell_type": "code",
   "execution_count": 32,
   "id": "10b4f465",
   "metadata": {},
   "outputs": [
    {
     "data": {
      "text/html": [
       "<div>\n",
       "<style scoped>\n",
       "    .dataframe tbody tr th:only-of-type {\n",
       "        vertical-align: middle;\n",
       "    }\n",
       "\n",
       "    .dataframe tbody tr th {\n",
       "        vertical-align: top;\n",
       "    }\n",
       "\n",
       "    .dataframe thead th {\n",
       "        text-align: right;\n",
       "    }\n",
       "</style>\n",
       "<table border=\"1\" class=\"dataframe\">\n",
       "  <thead>\n",
       "    <tr style=\"text-align: right;\">\n",
       "      <th></th>\n",
       "      <th>imp_mean</th>\n",
       "      <th>imp_std</th>\n",
       "    </tr>\n",
       "  </thead>\n",
       "  <tbody>\n",
       "    <tr>\n",
       "      <th>level</th>\n",
       "      <td>0.003967</td>\n",
       "      <td>0.000230</td>\n",
       "    </tr>\n",
       "    <tr>\n",
       "      <th>rooms</th>\n",
       "      <td>0.017418</td>\n",
       "      <td>0.000216</td>\n",
       "    </tr>\n",
       "    <tr>\n",
       "      <th>price</th>\n",
       "      <td>0.028667</td>\n",
       "      <td>0.000569</td>\n",
       "    </tr>\n",
       "    <tr>\n",
       "      <th>area</th>\n",
       "      <td>0.029491</td>\n",
       "      <td>0.000513</td>\n",
       "    </tr>\n",
       "    <tr>\n",
       "      <th>region</th>\n",
       "      <td>0.029901</td>\n",
       "      <td>0.000241</td>\n",
       "    </tr>\n",
       "  </tbody>\n",
       "</table>\n",
       "</div>"
      ],
      "text/plain": [
       "        imp_mean   imp_std\n",
       "level   0.003967  0.000230\n",
       "rooms   0.017418  0.000216\n",
       "price   0.028667  0.000569\n",
       "area    0.029491  0.000513\n",
       "region  0.029901  0.000241"
      ]
     },
     "execution_count": 32,
     "metadata": {},
     "output_type": "execute_result"
    }
   ],
   "source": [
    "data = {'imp_mean': perm_imp['importances_mean'],\n",
    "        'imp_std': perm_imp['importances_std']}\n",
    "\n",
    "importances = pd.DataFrame(data, index=X_val.columns).sort_values(by='imp_mean')\n",
    "\n",
    "importances.head()"
   ]
  },
  {
   "cell_type": "code",
   "execution_count": 33,
   "id": "b176d93f",
   "metadata": {},
   "outputs": [
    {
     "data": {
      "text/plain": [
       "<AxesSubplot:>"
      ]
     },
     "execution_count": 33,
     "metadata": {},
     "output_type": "execute_result"
    },
    {
     "data": {
      "image/png": "[encoded data removed]",
      "text/plain": [
       "<Figure size 432x288 with 1 Axes>"
      ]
     },
     "metadata": {
      "needs_background": "light"
     },
     "output_type": "display_data"
    }
   ],
   "source": [
    "importances['imp_mean'].tail(10).plot(kind='barh')"
   ]
  },
  {
   "cell_type": "code",
   "execution_count": 38,
   "id": "e633ad75",
   "metadata": {},
   "outputs": [
    {
     "name": "stdout",
     "output_type": "stream",
     "text": [
      "Random Forest\n",
      "              precision    recall  f1-score   support\n",
      "\n",
      "           0       0.66      0.43      0.52      6771\n",
      "           1       0.83      0.83      0.83     42259\n",
      "           2       0.75      0.80      0.78     33929\n",
      "           3       0.77      0.81      0.79     52619\n",
      "           4       0.64      0.33      0.43      4852\n",
      "           5       0.69      0.40      0.51       469\n",
      "\n",
      "    accuracy                           0.78    140899\n",
      "   macro avg       0.72      0.60      0.64    140899\n",
      "weighted avg       0.77      0.78      0.77    140899\n",
      "\n"
     ]
    },
    {
     "data": {
      "image/png": "[encoded data removed]",
      "text/plain": [
       "<Figure size 432x288 with 2 Axes>"
      ]
     },
     "metadata": {
      "needs_background": "light"
     },
     "output_type": "display_data"
    }
   ],
   "source": [
    "print(\"Random Forest\")\n",
    "print(classification_report(y_val, model_xgb3.predict(X_val)))\n",
    "plot_confusion_matrix(model_xgb3, X_val, y_val);"
   ]
  },
  {
   "cell_type": "code",
   "execution_count": null,
   "id": "27f3f635",
   "metadata": {},
   "outputs": [],
   "source": []
  }
 ],
 "metadata": {
  "kernelspec": {
   "display_name": "Python 3",
   "language": "python",
   "name": "python3"
  },
  "language_info": {
   "codemirror_mode": {
    "name": "ipython",
    "version": 3
   },
   "file_extension": ".py",
   "mimetype": "text/x-python",
   "name": "python",
   "nbconvert_exporter": "python",
   "pygments_lexer": "ipython3",
   "version": "3.8.8"
  }
 },
 "nbformat": 4,
 "nbformat_minor": 5
}
